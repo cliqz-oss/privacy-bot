{
 "cells": [
  {
   "cell_type": "markdown",
   "metadata": {},
   "source": [
    "# Example for using Data Loading API"
   ]
  },
  {
   "cell_type": "markdown",
   "metadata": {},
   "source": [
    "This API loads data from the latest [release](https://github.com/cliqz-oss/privacy-bot/releases) dump."
   ]
  },
  {
   "cell_type": "code",
   "execution_count": 1,
   "metadata": {},
   "outputs": [
    {
     "name": "stdout",
     "output_type": "stream",
     "text": [
      "Get Latest Release\n",
      "--------------------------------------------------------------------------------\n",
      "Name: Raw privacy policies sample (Among top 1000)\n",
      "Tag: 01-06-2017_v2_sample\n",
      "Url: https://api.github.com/repos/cliqz-oss/privacy-bot/zipball/01-06-2017_v2_sample\n",
      "--------------------------------------------------------------------------------\n",
      "Load cached content\n",
      "Load archive\n"
     ]
    }
   ],
   "source": [
    "# Create a policies instance\n",
    "from privacy_bot.analysis.policies_snapshot_api import Policies\n",
    "from collections import Counter\n",
    "\n",
    "policies = Policies()"
   ]
  },
  {
   "cell_type": "markdown",
   "metadata": {},
   "source": [
    "### Policy object properties"
   ]
  },
  {
   "cell_type": "code",
   "execution_count": 2,
   "metadata": {
    "collapsed": true
   },
   "outputs": [],
   "source": [
    "# policy.html            ---    html format\n",
    "# policy.text            ---    text format\n",
    "# policy.domain          ---    domain\n",
    "# policy.lang            ---    lang\n",
    "# policy.tld             ---    top level domain"
   ]
  },
  {
   "cell_type": "markdown",
   "metadata": {},
   "source": [
    "### Iterate on all policies"
   ]
  },
  {
   "cell_type": "code",
   "execution_count": 3,
   "metadata": {},
   "outputs": [
    {
     "name": "stdout",
     "output_type": "stream",
     "text": [
      "Counter({'de': 603, 'en': 124, 'bn': 10, '': 3, 'pl': 2, 'pt': 1, 'it': 1, 'ru': 1})\n"
     ]
    }
   ],
   "source": [
    "c = Counter()\n",
    "\n",
    "# Iterate on all policies\n",
    "for policy in policies:\n",
    "    # count policies by language\n",
    "    c[policy.lang] += 1\n",
    "\n",
    "print(c)"
   ]
  },
  {
   "cell_type": "code",
   "execution_count": 4,
   "metadata": {},
   "outputs": [
    {
     "name": "stdout",
     "output_type": "stream",
     "text": [
      "DOMAINS:  {'barclaycard.de', 'serienjunkies.de', 'zentrum-der-gesundheit.de', 'fastenergy.de', 't-online.de', 'kn-online.de', 'xxxlshop.de', 'schuhcenter.de', 'blablacar.de', 'gamestar.de', 'tipp24.com', 'deutsche-bank.de', 'adidas.de', 'n24.de', 'kalaydo.de', 'whatsapp.com', 'youtube.com', 'eplus.de', 'momox.de', 'tvtoday.de/tv-programm', 'newtopia.de', 'klingel.de', 'de.sputniknews.com', 'toysrus.de', 'friendscout24.de', 'myfreefarm.de', 'easports.com', 'moviepilot.de', 'dhl.de/de.html', 'haz.de', 'pearl.de', 'de.silvergames.com', 'eurosport.de', 'pcwelt.de', 'bwin.com', 'preis24.de', 'nordbayern.de', 'ford.de', 'jochen-schweizer.de', 'kicker.de', 'csgolounge.com', 'hartziv.org', 'weltbild.de', 'clipfish.de', 'kika.de/index.html', 'ask.fm', 'office-discount.de', 'taz.de', 'giga.de', 'bravo.de', 'bbbank.de', 'ryanair.com', 'lolking.net', 'spotify.com/de', 'derstandard.at', 'uni-bonn.de', 'penny.de', 'gelbeseiten.de', 'google.at', 'stepstone.de', 'faz.net', 'pc-magazin.de', 'peek-cloppenburg.de', 'hearthstoneheroes.de', 'testberichte.de', 'sparkasse.de', 'kostenlosspielen.net', 'germanwings.com', 'heizoel24.de', 'nk.pl', 'spin.de', 'pinterest.com', 'sixx.de', 'schnaeppchenfuchs.com', 'ruhrnachrichten.de', 'kwick.de', 'booking.com/index.de.html', 'sskm.de', 'fernsehserien.de', 'billiger.de', 'tum.de', 'finanztip.de', 'de.indeed.com', 'sueddeutsche.de', 'canon.de', 'kleiderkreisel.de', 'flightradar24.com', 'radio.de', 'ego4u.de', 'mtb-news.de', 'formel1.de', 'google.de', 'railnation.de', 'umrechner-euro.de', 'wortwuchs.net', 'myhermes.de', 'pons.com', 'bahn.de', 'webfail.com', 'dailymotion.com/de', 'bunte.de', 'shpock.com', 'speedtest.net', 'bayern.de', 'rtl2.de', 'posteo.de', 'shz.de', 'knuddels.de', 'frankonia.de', 'de.pdf24.org', 'fewo-direkt.de', 'bvb.de', 'wir-machen-druck.de', 'hoeffner.de', 'deviantart.com', 'go.com', 'ok-magazin.de', 'wetter.de', 'ls-portal.eu', 'amazon.com', 'skoda-auto.de', 'browsergames.de', 'anno-online.com', 'bauhaus.info', 'gamepedia.com', 'werder.de', 'gold.de', 'google.ch', 'fitforfun.de', 'welt.de', 'limango.de', 'rmv.de', 'tripadvisor.de', 'soundcloud.com', 'eu.battle.net/de', 'kik.de', 'kalenderpedia.de', 'jetztspielen.de', 'seniorbook.de', 'de.reddit.com', 'humblebundle.com', 'woxikon.de', 'goodgamestudios.com', 'karstadt.de', 'antenne.de', 'hna.de', 'staufenbiel.de', 'antolin.de', 'deutschepost.de', 'easyjet.com/de', 'snipes.com', 'unterhalt.net', 'myfreezoo.de', 'bild.de', 'def-shop.com', 'wdr2.de', 'yahoo.com', 'tumblr.com', 'ewe.de', 'chefkoch.de', 'dkb.de', 'sportscheck.com', 'wordpress.com', 'swr.de', 'rtl.de', 'pokewiki.de', 'englisch-hilfen.de', 'home24.de', 'tabellarischer-lebenslauf.net', 'tvnow.de', 'microsoft.com/de-de', 'youtube-mp3.org', 'ebay.com', 'ard.de', 'xing.com', 'louis.de', 'de.bigpoint.com', 'aliexpress.com', 'moebel-boss.de', 'check24.de', 'uni-kiel.de', 'apotheken-umschau.de', 'poco.de', 'paypal.com/de/webapps/mpp/home', 'noz.de', 'gls-group.eu', 'ixquick.com', 'dak.de', 'sixt.de', 'adobe.com', 'kicktipp.de', 'rapupdate.de', 'viamichelin.de', 'forgeofempires.com', 'rossmann.de', 'disneychannel.de', 'twitch.tv', 'vimeo.com', 'steuerklassen.com', 'omegle.com', 'misterspex.de', 'ebay.co.uk', 'immowelt.de', 'kfw.de', 'movie2k.tw', 'skyscanner.de', 'google.pl', 'minecraft.net', 'rezeptwelt.de', 'berliner-sparkasse.de/privatkunden/index.php', 'versatel.de', 'tk.de', 'wetter.com', 'uni-bielefeld.de', 'kindergeld.org', 'postbank.de', 'kartenmacherei.de', 'nrw.de', 'ebay.de', 'proxer.me', 'de.wwe.com', 'motorsport-total.com', 'chatroom2000.de', 'zinsen-berechnen.de', 'airbnb.de', 'worldoftanks.eu', 'technikboerse.com', 'de.forgeofempires.com', 'street-one.de', 'hp.com', 'kaufda.de', 'hse24.de', 'onvista.de', 'swoodoo.com', 'deutsche-wirtschafts-nachrichten.de', 'doodle.com/de', 'de.lovoo.com', 'express.de', 'fussballgucken.info', 'ran.de', 'tuicruises.com', 'winfuture.de', 'vodafone.de', 'jpc.de', 'norisbank.de', 'momondo.de', 'simyo.de', 'filmstarts.de', 'payback.de', 'reddit.com', 'netto-online.de', 'de.wordpress.com', 'aldi-sued.de', 'dropbox.com', 'de.anno-online.com', 'lovoo.com', 'onlinewelten.com', 'translit.net', 'norma-online.de', 'fotocommunity.de', 'heine.de', 'douglas.de/douglas', 'finya.de', 'iphone-tricks.de', 'girlsgogames.de', 'heise.de', 'huk24.de', 'opodo.de', 'conrad.de', 'imdb.com', 'dm.de', 'gameduell.de', 'kfzteile24.de', 'elster.de/eon_home.php', 'alditalk.de', 'de.aliexpress.com', 'oeffentlichen-dienst.de', 'berlin.de', 'teamliquid.net', 'vox.de/cms/index.html', 'sparda-sw.de', 'viva.tv', 'aldi-nord.de', 'wowprogress.com', 'kochbar.de', 'zattoo.com', 'garmin.com', 'lego.com/de-de', 'all-inkl.com', 'zalando.de', 'fahrrad.de', 'swr3.de', 'quoka.de', 'klarmobil.de', 'motor-talk.de', 'nw.de', 'arbeitsagentur.de', 'brands4friends.de', 'die-staemme.de', 'radioeins.de', 'lolnexus.com', 'model-kartei.de', 'minecraft-server.eu', 'minecraftskins.com', 'sz-online.de', 'santanderbank.de', 'bmw.de', 'depot-online.com', 'sat1.de', 'wallstreet-online.de', 'pnp.de', 'reichelt.de', 'discogs.com', 'moviestarplanet.de', 'comdirect.de', 'reifen.com', 'rewe.de', 'diesiedleronline.de/de', 'samsung.com', 'tipico.de/de/online-sportwetten', 'badoo.com', 'sportschau.de', 'laola1.tv', 'championselect.net', 'urlaubspiraten.de', 'markt.de', '3dl.tv', 'aol.de', 'de.pons.com', 'bremen.de', 'strato.de', 'nick.de', 'toggo.de', 'flughafen-stuttgart.de', 'immobilienscout24.de', 'stage-entertainment.de', 'dwd.de/de/home/home_node.html', 'focus.de', 'allianz.de', 'wimdu.de', 'uni-leipzig.de', 'gametwist.com', 'parship.de', 'sport1.de', 'uni-wuerzburg.de', 'dertour.de', 'haspa.de', 'klicktel.de', 'wdr.de', 'instagram.com', 'resourcepack.net', 'hotel.de', 'hypovereinsbank.de', 'modhoster.de', 'gmx.net', 'qvc.de', 'maxdome.de', 'elster.de', 'vertbaudet.de', 'sky.de', 'rbb-online.de', 'daimler.com/de', 'daenischesbettenlager.de', '1001spiele.de', '12gebrauchtwagen.de', 'kopp-verlag.de', 'oanda.com/lang/de', 'fcbayern.de', 'tomtom.com/de_de', 'galeria-kaufhof.de', 'badische-zeitung.de', 'eatsmarter.de', 'rp-online.de', 'gamestop.de', 'dfb.de/index', 'kongregate.com', 'teleboerse.de', 'joeys.de', 'ausbildung.de', 'tvmovie.de', 'fonic.de', 'lg.com', 'schnelle-online.info', 'baufi24.de', 'bmi-rechner.net', 'mamikreisel.de', 'bestsecret.com', 'centerparcs.de', 'de.hattrick.org', 'clever-tanken.de', 'ksk-koeln.de', 'holidaycheck.de', 'wetteronline.de', 'engelbert-strauss.de', 'europcar.de', 'lastminute.de', 'der-betze-brennt.de', 'spielaffe.de', '20min.ch', 'postofficeshop.de', 'aboalarm.de', 'targobank.de', 'twitter.com', 'busliniensuche.de', 'airberlin.com', 'huk.de', 'euw.leagueoflegends.com', 'amorelie.de', 'linguee.de', 'technicpack.net', 'expert.de', 'deutschebahn.com', 'de.upjers.com', 'daswetter.com', 'freenet.de/index.html', 'nowtv.de', 'olb.de', 'testberichte-und-testsieger.de', 'autoscout24.de', 'medikamente-per-klick.de', 'bildkontakte.de', 'stargames.net', 'eventim.de', 'rebuy.de', 'live.com', 'mdr.de', 'netzwelt.de', 'sparwelt.de', 'de.dawanda.com', 'geschenkidee.de', 'lablue.de', 'einslive.de', 'mydays.de', 'zdf.de', 'derwesten.de', 'store.steampowered.com', 'msn.com/de-de', 'playstation.com/de-de', 'dasoertliche.de', 'suedkurier.de', 'de.yahoo.com', 'dreamies.de', 'ultimate-guitar.com', 'wohnungsboerse.net', 'hrs.de', 'speedmeter.de', 'armorgames.com', 'tagesspiegel.de', 'mojang.com', 'mainpost.de', 'vattenfall.de', 'stau.info', 'travian.de', 'de.herozerogame.com', 'congstar.de', 'verivox.de', 'billiger-telefonieren.de', 'duden.de', 'tvspielfilm.de', 'verkehrsinformation.de', 'chip.de', 'bigpoint.com', 'mogelpower.de', 'minecraftsix.com', 'howrse.de', 'mobilcom-debitel.de', 'movie2k.tl', 'uni-giessen.de', 'expedia.de', 'meinestadt.de', 'decathlon.de', 'heute.de', 'gesundheit.de', 'sparkasse-hannover.de', 'esprit.de', 'mindfactory.de', 'philips.de', 'zyngagames.com', 'web.de', 'azubiyo.de', 'hagebau.de', 'gmx.at', 'fupa.net/start', 'tz.de', 'fahrschulcard.de', 'startpage.com', 'linkedin.com', 'frankfurt-airport.de', 'deine-tierwelt.de', 'lolesports.com', 'probuilds.net', 'blick.ch', 'nfl.com', 'handelsblatt.com', 'netcologne.de', 'merkur-online.de', 'spielen.com', 'teamviewer.com', 'bewerbung.net', 'ardmediathek.de/tv', 'buffed.de', 'rock-am-ring.com', 'mozilla.org/de', 'autohaus24.de', 'dhd24.com', 'edeka.de', 'hvv.de', '9gag.com', 'monster.de', 'roller.de', 'kabelbw.de', 'bw-bank.de/de', 'sparhandy.de', 'apobank.de', 'hornbach.de', 'ndr.de', 'blau.de', 'gutscheine.de', 'kalenderwoche.net', 'tagesschau.de', 'zalando-lounge.de', 'adac.de', 'lieferheld.de', 'flickr.com', 'imgur.com', 'zeit.de/index', 'hoerzu.de', 'merkur.de', 'de.grepolis.com', 'finanzen.net', 'blogspot.de', 'sparda-b.de', 'base.de/mobilfunk', 'arcor.de', 'freiepresse.de', 'de.pinterest.com', 'google.ru', 'spiegel.de', 'wunderweib.de', 'weg.de', 'kimeta.de', 'java.com/de', 'pcgames.de', 'billiger-mietwagen.de', 'live-stream.tv', 'mcdonalds.de', 'godmode-trader.de', 'schulferien.org', 'de.moviestarplanet.de', 'kayak.de', 'nwzonline.de', 'fluege.de', 'gommehd.net', 'wetransfer.com', 'berliner-volksbank.de', 'traktorpool.de', 'lufthansa.com', 'posterxxl.de', 'netdoktor.de', 'pcgameshardware.de', 'bet-at-home.com', 'ebay-kleinanzeigen.de', 'sputniknews.com', 'wieistmeineip.de', 'daserste.de', 'sparda-m.de', 'consorsbank.de/home', 'bundesliga.de/de', 'ab-in-den-urlaub.de', 'deutschlandcard.de', 'osthessen-news.de', 'lecker.de', 'mtv.de', 'zooplus.de', 'amazon.de', 'klack.de', 'spielen.de', 't-mobile.de', 'mediamarkt.de', 'gala.de', 'tu-braunschweig.de', 'wikia.com', 'futhead.com', 'teltarif.de', 'test.de', 'computerbild.de', 'google.com', 'gutefrage.net', 'sparda-bank-hamburg.de', 'sparda-bw.de', 'stayfriends.de', 'aboutyou.de', 'bvg.de', 'southpark.de', 'bafoeg-rechner.de', 'stuttgarter-zeitung.de', 'avira.com', 'meinfernbus.de', 'mangareader.net', 'fernbusse.de', 'neckermann-reisen.de', 'guenstiger.de', 'idealo.de', 'upjers.com', 'ernstings-family.de', 'bader.de', 'skype.com/de', 'de.linkedin.com', 'essen-und-trinken.de', 'mytoys.de', 'tuifly.com', 'bike-discount.de', 'lolcounter.com', 'karrierebibel.de', 'computerhilfen.de', 'uni-paderborn.de', 'fu-berlin.de', 'stern.de', 'transfermarkt.de', 'ing-diba.de', 'icy-veins.com', 'donnerwetter.de', 'de.webfail.com', 'wwe.com', 'boerse-online.de', 'netflix.com/de', 'rt.com', 'thalia.de/shop/home/show', 'farmerama.de', 'booklooker.de', 'uni-koeln.de', 'medimops.de', 'barmer-gek.de', 'groupon.de', 'darkorbit.de', 'hyundai.de', 'tu-berlin.de', 'telefonbuch.de', 'ltur.com', 'bonprix.de', 'sparda-h.de', 'sheego.de', 'herozerogame.com', 'bankofscotland.de', '11teamsports.de', 'bz-berlin.de', 'wurzelimperium.de', 'jappy.de', 'urbia.de', 'openoffice.org', 'alternate.de', 'cinemaxx.de', 'emp.de', 'de.jimdo.com', 'abendblatt.de', 'comunio.de', 'pizza.de', 'hattrick.org', 'cewe.de', 'the-west.de', 'jako-o.de', 'reise-klima.de', 'opel.de', 'golem.de', 'urlaubsguru.de', 'mobile.de', 'autobild.de', 'hr-online.de', 'muenchen.de', 'pennergame.de', 'facebook.com', 'gofeminin.de', 'spielmit.com', 'surfmusik.de', 'kabeleins.de', 'sparda-hessen.de', '1und1.de', 'abendzeitung-muenchen.de', 'wikipedia.org', 'myvideo.de', 'vvs.de', 'sony.de', 'thomann.de/de/index.html', 'mail.de', 'connect.de', 'gutscheinpony.de', 'baby-walz.de', 'tupperware.de', 'burgerking.de', 'testsieger.de', 'moviestarplanet.com', 'silvergames.com', 'kino.de', 'dastelefonbuch.de', 'medimax.de', 'gmail.com', 'agar.io', 'lotto.de', 'mangafox.me', 'uni-marburg.de', 'dmax.de', 'brigitte.de', 'n-tv.de', 'fischkopf.de', 'grepolis.com', 'onmeda.de', 'sport.de', 'asos.de', 'indeed.com', 'redcoon.de', 'bewerbung-tipps.com', 'farming-simulator.com', 'minecrafttexturepacks.com', 'wn.de', 'soliver.de', 'voxnow.de', 'dpd.com', 'arbeits-abc.de', 'siemens-home.de', 'prosieben.de', 'smsvongesternnacht.de', 'jimdo.com', '0rechner.de', 'vlh.de', '1822direkt.de', 'fanfiktion.de', 'flixbus.de', 'hamburg.de', 'telekom.de', 'fotoparadies.de', 'medizinfuchs.de', 'docmorris.de', 'esyoil.com', 'sparda-west.de', 'buecher.de', 'auto-motor-und-sport.de', 'prosiebenmaxx.de', 'lotto24.de', 'stargames.com', 'apple.com', 'augsburger-allgemeine.de', '4players.de', 'dawanda.com', 'goalunited.org', 'steuertipps.de'}\n",
      "-------------------------\n",
      "TLDs:  {'it', 'info', 'at', 'ie', 'me', 'am', 'ch', 'tv', 'org', 'de', 'com', 'io', 'fm', 'co.uk', 'net', 'pl', 'eu', 'ru'}\n",
      "-------------------------\n",
      "LANGUAGES:  {'', 'ru', 'de', 'bn', 'pt', 'en', 'pl', 'it'}\n"
     ]
    }
   ],
   "source": [
    "# Similarly we can access some meta info on policies in the data\n",
    "\n",
    "print(\"DOMAINS: \", policies.domains)\n",
    "print(\"-------------------------\")\n",
    "print(\"TLDs: \", policies.tlds)\n",
    "print(\"-------------------------\")\n",
    "print(\"LANGUAGES: \", policies.languages)\n"
   ]
  },
  {
   "cell_type": "markdown",
   "metadata": {},
   "source": [
    "### Iterate policies in a specific language"
   ]
  },
  {
   "cell_type": "code",
   "execution_count": 5,
   "metadata": {},
   "outputs": [
    {
     "name": "stdout",
     "output_type": "stream",
     "text": [
      "Counter({'com': 94, 'net': 10, 'org': 5, 'de': 3, 'eu': 3, 'tv': 2, 'am': 2, 'io': 1, 'fm': 1, 'co.uk': 1, 'ie': 1, 'me': 1})\n"
     ]
    }
   ],
   "source": [
    "# Counter of top level domains\n",
    "tlds = Counter()\n",
    "\n",
    "#loading only policies in english\n",
    "for policy in policies.query(lang='en', domain=None, tld=None):\n",
    "    tlds[policy.tld] += 1\n",
    "\n",
    "print(tlds)"
   ]
  },
  {
   "cell_type": "markdown",
   "metadata": {},
   "source": [
    "The `query` method of `Policies` enables filtering by `domain`, `language`, `tld`."
   ]
  },
  {
   "cell_type": "markdown",
   "metadata": {},
   "source": [
    "### Policies of company or specific domain"
   ]
  },
  {
   "cell_type": "code",
   "execution_count": 6,
   "metadata": {},
   "outputs": [
    {
     "data": {
      "text/plain": [
       "['google.at', 'google.ch', 'google.de', 'google.pl', 'google.ru']"
      ]
     },
     "execution_count": 6,
     "metadata": {},
     "output_type": "execute_result"
    }
   ],
   "source": [
    "# We can retrieve available policies of a given domain or company\n",
    "list(policy.domain for policy in policies.query(domain='google'))"
   ]
  },
  {
   "cell_type": "code",
   "execution_count": 7,
   "metadata": {},
   "outputs": [
    {
     "data": {
      "text/plain": [
       "'Datenschutzerklärung – Datenschutzerklärung &amp; Nutzungsbedingungen –\\nGoogle\\n\\n#\\n\\n##  Datenschutzerklärung &amp; Nutzungsbedingungen\\n\\nWeiter zum Inhalt\\n\\n  * Übersicht\\n  * Datenschutzerklärung\\n  * Nutzungsbedingungen\\n  * Technologien und Prinzipien\\n  * Häufig gestellte Fragen\\n  * Mein Kont'"
      ]
     },
     "execution_count": 7,
     "metadata": {},
     "output_type": "execute_result"
    }
   ],
   "source": [
    "# Accessing a particular policy\n",
    "google = next(policies.query(domain='google.de'))\n",
    "\n",
    "\n",
    "\n",
    "def fix_encoding(content):\n",
    "    return content.encode('latin-1').decode('utf-8')\n",
    "\n",
    "\n",
    "# first 300 characters\n",
    "fix_encoding(google.text[:300])"
   ]
  },
  {
   "cell_type": "code",
   "execution_count": null,
   "metadata": {
    "collapsed": true
   },
   "outputs": [],
   "source": []
  },
  {
   "cell_type": "code",
   "execution_count": null,
   "metadata": {
    "collapsed": true
   },
   "outputs": [],
   "source": []
  }
 ],
 "metadata": {
  "kernelspec": {
   "display_name": "Python 3",
   "language": "python",
   "name": "python3"
  },
  "language_info": {
   "codemirror_mode": {
    "name": "ipython",
    "version": 3
   },
   "file_extension": ".py",
   "mimetype": "text/x-python",
   "name": "python",
   "nbconvert_exporter": "python",
   "pygments_lexer": "ipython3",
   "version": "3.6.1"
  }
 },
 "nbformat": 4,
 "nbformat_minor": 2
}
